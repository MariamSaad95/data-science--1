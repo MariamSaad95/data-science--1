{
 "cells": [
  {
   "cell_type": "markdown",
   "id": "a3f07b3c-2785-4464-8570-eb68e59f1818",
   "metadata": {},
   "source": [
    "# 1-write Numpy prgoram to test whether none of elements of a given array is zero"
   ]
  },
  {
   "cell_type": "code",
   "execution_count": 1,
   "id": "2cac2762-1d5a-4e47-b987-44e386a5b83d",
   "metadata": {},
   "outputs": [],
   "source": [
    "import numpy as np"
   ]
  },
  {
   "cell_type": "code",
   "execution_count": 2,
   "id": "64609091-b379-451f-b9bb-d23a2e9b4817",
   "metadata": {},
   "outputs": [],
   "source": [
    "x =np.array ([[2,5,4],[4,8,7]])"
   ]
  },
  {
   "cell_type": "code",
   "execution_count": 3,
   "id": "7316f9c4-7ea6-41ad-858b-e647bab78659",
   "metadata": {},
   "outputs": [
    {
     "name": "stdout",
     "output_type": "stream",
     "text": [
      "[[2 5 4]\n",
      " [4 8 7]]\n"
     ]
    }
   ],
   "source": [
    "print(x)"
   ]
  },
  {
   "cell_type": "code",
   "execution_count": 4,
   "id": "c0e5277d-28eb-4320-8afc-02ffcd5eb9bd",
   "metadata": {},
   "outputs": [
    {
     "name": "stdout",
     "output_type": "stream",
     "text": [
      "True\n"
     ]
    }
   ],
   "source": [
    "print(np.all(x))"
   ]
  },
  {
   "cell_type": "markdown",
   "id": "8cfae9b2-c57b-41af-a721-bf9ef3fb62a4",
   "metadata": {},
   "source": [
    "# 2- write Numpy prgoram to test whether any of elements of a given array is non-zero"
   ]
  },
  {
   "cell_type": "code",
   "execution_count": 5,
   "id": "e10154b6-7262-49a1-9baf-a8f9b670b865",
   "metadata": {},
   "outputs": [],
   "source": [
    "z =np.array ([[0,5,4],[4,8,0]])"
   ]
  },
  {
   "cell_type": "code",
   "execution_count": 6,
   "id": "bcd3fb46-de57-44aa-b32e-0774892f6f04",
   "metadata": {},
   "outputs": [
    {
     "name": "stdout",
     "output_type": "stream",
     "text": [
      "[[0 5 4]\n",
      " [4 8 0]]\n"
     ]
    }
   ],
   "source": [
    "print(z)"
   ]
  },
  {
   "cell_type": "code",
   "execution_count": 7,
   "id": "a171ebef-f4f9-4e61-af76-b5eedf02b65b",
   "metadata": {},
   "outputs": [
    {
     "name": "stdout",
     "output_type": "stream",
     "text": [
      "False\n"
     ]
    }
   ],
   "source": [
    "print(np.all(z))"
   ]
  },
  {
   "cell_type": "markdown",
   "id": "e16d5101-1f81-4dea-b88a-c4d4cf85ad50",
   "metadata": {},
   "source": [
    "# 3- write Numpy prgoram to create an element-wise comparsion(equal,equal within a tolerance of two given)"
   ]
  },
  {
   "cell_type": "code",
   "execution_count": 8,
   "id": "2db88d15-ee45-45ec-abe1-ed812f9b9b21",
   "metadata": {},
   "outputs": [],
   "source": [
    "x = np.array([[2,5,6,7]])\n",
    "z = np.array([[1,5,3,7]])"
   ]
  },
  {
   "cell_type": "code",
   "execution_count": 9,
   "id": "1a196e79-be63-4297-86ff-efb883643b0e",
   "metadata": {},
   "outputs": [
    {
     "name": "stdout",
     "output_type": "stream",
     "text": [
      "[[2 5 6 7]]\n",
      "[[1 5 3 7]]\n"
     ]
    }
   ],
   "source": [
    "print(x)\n",
    "print(z)"
   ]
  },
  {
   "cell_type": "code",
   "execution_count": 10,
   "id": "d7b7a706-3f8e-46b8-a0b6-a896cef45eff",
   "metadata": {},
   "outputs": [
    {
     "data": {
      "text/plain": [
       "array([[False,  True, False,  True]])"
      ]
     },
     "execution_count": 10,
     "metadata": {},
     "output_type": "execute_result"
    }
   ],
   "source": [
    "x==z"
   ]
  },
  {
   "cell_type": "markdown",
   "id": "b5629763-e162-4d87-bed1-e168f3f39aca",
   "metadata": {},
   "source": [
    "# 4- write a numpy program to create an array of 10 zeros,10 ones,10 fives"
   ]
  },
  {
   "cell_type": "code",
   "execution_count": 11,
   "id": "4faf27d0-a81d-4118-ab52-fa71062d51cb",
   "metadata": {},
   "outputs": [
    {
     "name": "stdout",
     "output_type": "stream",
     "text": [
      "[0. 0. 0. 0. 0. 0. 0. 0. 0. 0.]\n",
      "[1. 1. 1. 1. 1. 1. 1. 1. 1. 1.]\n",
      "[5. 5. 5. 5. 5. 5. 5. 5. 5. 5.]\n"
     ]
    }
   ],
   "source": [
    "A = np.zeros(10)\n",
    "print(A)\n",
    "B = np.ones(10)\n",
    "print(B)\n",
    "C = np.ones(10)*5\n",
    "print(C)"
   ]
  },
  {
   "cell_type": "markdown",
   "id": "73c8148c-e916-42f1-9b82-738430815544",
   "metadata": {},
   "source": [
    "# 5- write a Numpy program to create an array of the integers from 30 to 70"
   ]
  },
  {
   "cell_type": "code",
   "execution_count": 12,
   "id": "2694c441-569c-4f5e-8eeb-818ae73e41fa",
   "metadata": {},
   "outputs": [],
   "source": [
    "new_arr = np.arange(30,71)"
   ]
  },
  {
   "cell_type": "code",
   "execution_count": 13,
   "id": "6b4915da-6d35-427d-9e81-592c2d912fea",
   "metadata": {},
   "outputs": [
    {
     "data": {
      "text/plain": [
       "array([30, 31, 32, 33, 34, 35, 36, 37, 38, 39, 40, 41, 42, 43, 44, 45, 46,\n",
       "       47, 48, 49, 50, 51, 52, 53, 54, 55, 56, 57, 58, 59, 60, 61, 62, 63,\n",
       "       64, 65, 66, 67, 68, 69, 70])"
      ]
     },
     "execution_count": 13,
     "metadata": {},
     "output_type": "execute_result"
    }
   ],
   "source": [
    "new_arr"
   ]
  },
  {
   "cell_type": "markdown",
   "id": "55c45caa-800b-4474-b5b7-ccb7e52f63fe",
   "metadata": {},
   "source": [
    "# 6- write a Numpy program to create a 3*3 identity matrix"
   ]
  },
  {
   "cell_type": "code",
   "execution_count": 14,
   "id": "1892dccb-b728-4a15-9bdf-56b4044e76af",
   "metadata": {},
   "outputs": [],
   "source": [
    "i = np.eye(3,3)"
   ]
  },
  {
   "cell_type": "code",
   "execution_count": 15,
   "id": "7d776bbf-94fd-4f0b-aed3-77e38e63d3cf",
   "metadata": {},
   "outputs": [
    {
     "data": {
      "text/plain": [
       "array([[1., 0., 0.],\n",
       "       [0., 1., 0.],\n",
       "       [0., 0., 1.]])"
      ]
     },
     "execution_count": 15,
     "metadata": {},
     "output_type": "execute_result"
    }
   ],
   "source": [
    "i"
   ]
  },
  {
   "cell_type": "markdown",
   "id": "429a31dd-c3cd-43b9-8859-a56b9c53cab1",
   "metadata": {},
   "source": [
    "# 7-write a Numpy program to generate a random number between 0 and 1"
   ]
  },
  {
   "cell_type": "code",
   "execution_count": 16,
   "id": "2269f2bd-34d8-4706-8bb2-c0396fb34b0d",
   "metadata": {},
   "outputs": [
    {
     "name": "stdout",
     "output_type": "stream",
     "text": [
      "0.22999647155906555\n"
     ]
    }
   ],
   "source": [
    "print(np.random.uniform(0,1))"
   ]
  },
  {
   "cell_type": "markdown",
   "id": "713db7b9-527b-41cd-83ed-c184c80851c5",
   "metadata": {},
   "source": [
    "# 8-write a Numpy program to generate an array of 15 random numbers from a standard normal distribution"
   ]
  },
  {
   "cell_type": "code",
   "execution_count": 17,
   "id": "4ad6a768-7887-4c61-a400-4366e59aee1c",
   "metadata": {},
   "outputs": [
    {
     "name": "stdout",
     "output_type": "stream",
     "text": [
      "[[ 0.19184883  1.80297271  0.4098818   0.23450627  0.09925089]\n",
      " [-1.13510666  0.14886654  0.30339986  0.78364318 -0.5883613 ]\n",
      " [-0.48843415 -0.42667234 -1.10461029 -1.06194232 -1.34105389]]\n"
     ]
    }
   ],
   "source": [
    "print(np.random.randn(3,5))"
   ]
  },
  {
   "cell_type": "code",
   "execution_count": 18,
   "id": "b540b471-4924-4cc5-88f2-6db0b25e0db1",
   "metadata": {},
   "outputs": [
    {
     "name": "stdout",
     "output_type": "stream",
     "text": [
      "[[ 0.13602387  0.29216314  0.22232958]\n",
      " [ 1.82493282 -2.46519723  0.11440098]\n",
      " [-0.79280099 -0.17831854  0.48014567]\n",
      " [-0.61279182 -2.20579093  0.41517469]\n",
      " [ 1.10586891  0.46785737  0.19753355]]\n"
     ]
    }
   ],
   "source": [
    "print(np.random.randn(5,3))\n"
   ]
  },
  {
   "cell_type": "markdown",
   "id": "c9c192d3-4294-45ce-b0ce-d7c0515ccfa6",
   "metadata": {},
   "source": [
    "# 9-write a Numpy program to create a vector with values ranging from 15 to 55 and print all values except the first and the last"
   ]
  },
  {
   "cell_type": "code",
   "execution_count": 19,
   "id": "d8ccbca2-fcb1-407a-a52b-150cfb321c7e",
   "metadata": {},
   "outputs": [],
   "source": [
    "Q = np.arange(15,56)"
   ]
  },
  {
   "cell_type": "code",
   "execution_count": 20,
   "id": "895bf9aa-2378-4f84-96df-d0debf1d383e",
   "metadata": {},
   "outputs": [
    {
     "name": "stdout",
     "output_type": "stream",
     "text": [
      "[15 16 17 18 19 20 21 22 23 24 25 26 27 28 29 30 31 32 33 34 35 36 37 38\n",
      " 39 40 41 42 43 44 45 46 47 48 49 50 51 52 53 54 55]\n"
     ]
    }
   ],
   "source": [
    "print(Q)"
   ]
  },
  {
   "cell_type": "code",
   "execution_count": 21,
   "id": "f0cadfe8-ba77-4b05-9056-79764c248c50",
   "metadata": {},
   "outputs": [
    {
     "name": "stdout",
     "output_type": "stream",
     "text": [
      "[16 17 18 19 20 21 22 23 24 25 26 27 28 29 30 31 32 33 34 35 36 37 38 39\n",
      " 40 41 42 43 44 45 46 47 48 49 50 51 52 53 54]\n"
     ]
    }
   ],
   "source": [
    "print(Q[1:-1])"
   ]
  },
  {
   "cell_type": "markdown",
   "id": "ead5e07a-ce21-4f71-82e8-6793cae677ff",
   "metadata": {},
   "source": [
    "# 10- write a Numpy program to create a vector of length 5 filled with arbitrary from 0 to 10"
   ]
  },
  {
   "cell_type": "code",
   "execution_count": 22,
   "id": "cbd38166-bd5c-46ba-8fda-80d44cd89d71",
   "metadata": {},
   "outputs": [
    {
     "name": "stdout",
     "output_type": "stream",
     "text": [
      "[4 8 1 7 1]\n"
     ]
    }
   ],
   "source": [
    "print(np.random.randint(0,11,5))"
   ]
  },
  {
   "cell_type": "markdown",
   "id": "a85f251e-6b14-4233-bcf2-854b229c76b3",
   "metadata": {},
   "source": [
    "# 11-write a Numpy program to create a 10*10 matrix, in which the elements on the borders will be equal to 1 , and inside 0."
   ]
  },
  {
   "cell_type": "code",
   "execution_count": 23,
   "id": "5a68a8b9-4e42-47b4-83b5-bc283d90302a",
   "metadata": {},
   "outputs": [],
   "source": [
    "Z= np.ones((10,10))\n",
    "Z[1:-1,1:-1] =0\n"
   ]
  },
  {
   "cell_type": "code",
   "execution_count": 24,
   "id": "4f56f792-b2cf-41ca-8253-e0c7021c8996",
   "metadata": {},
   "outputs": [
    {
     "data": {
      "text/plain": [
       "array([[1., 1., 1., 1., 1., 1., 1., 1., 1., 1.],\n",
       "       [1., 0., 0., 0., 0., 0., 0., 0., 0., 1.],\n",
       "       [1., 0., 0., 0., 0., 0., 0., 0., 0., 1.],\n",
       "       [1., 0., 0., 0., 0., 0., 0., 0., 0., 1.],\n",
       "       [1., 0., 0., 0., 0., 0., 0., 0., 0., 1.],\n",
       "       [1., 0., 0., 0., 0., 0., 0., 0., 0., 1.],\n",
       "       [1., 0., 0., 0., 0., 0., 0., 0., 0., 1.],\n",
       "       [1., 0., 0., 0., 0., 0., 0., 0., 0., 1.],\n",
       "       [1., 0., 0., 0., 0., 0., 0., 0., 0., 1.],\n",
       "       [1., 1., 1., 1., 1., 1., 1., 1., 1., 1.]])"
      ]
     },
     "execution_count": 24,
     "metadata": {},
     "output_type": "execute_result"
    }
   ],
   "source": [
    "Z"
   ]
  },
  {
   "cell_type": "markdown",
   "id": "b37ef764-a826-499f-ac04-23ffaeba8249",
   "metadata": {},
   "source": [
    "# 12-write a Numpy program to create 5*5 zero matrix on the main diagonal equal 1,2,3,4,5"
   ]
  },
  {
   "cell_type": "code",
   "execution_count": 25,
   "id": "06e52924-f9cf-4702-8d9c-5f84dfd30ee2",
   "metadata": {},
   "outputs": [
    {
     "data": {
      "text/plain": [
       "array([[1, 0, 0, 0, 0],\n",
       "       [0, 2, 0, 0, 0],\n",
       "       [0, 0, 3, 0, 0],\n",
       "       [0, 0, 0, 4, 0],\n",
       "       [0, 0, 0, 0, 5]])"
      ]
     },
     "execution_count": 25,
     "metadata": {},
     "output_type": "execute_result"
    }
   ],
   "source": [
    " np.diag([1,2,3,4,5])\n"
   ]
  },
  {
   "cell_type": "markdown",
   "id": "b65558aa-9078-4ec3-b7d8-7e7b5e779937",
   "metadata": {},
   "source": [
    "# 13-Write a program to create 4*4 matrix in which 0 and 1 are staggered,with zeros on the main diagonal"
   ]
  },
  {
   "cell_type": "code",
   "execution_count": 26,
   "id": "f4e0cc51-a3a2-47cf-aa45-8269be2b846b",
   "metadata": {},
   "outputs": [
    {
     "data": {
      "text/plain": [
       "array([[0., 1., 0., 1.],\n",
       "       [1., 0., 1., 0.],\n",
       "       [0., 1., 0., 1.],\n",
       "       [1., 0., 1., 0.]])"
      ]
     },
     "execution_count": 26,
     "metadata": {},
     "output_type": "execute_result"
    }
   ],
   "source": [
    "F = np.zeros((4,4))\n",
    "F[::2 ,1::2] = 1\n",
    "F[1::2, ::2] = 1\n",
    "F"
   ]
  },
  {
   "cell_type": "markdown",
   "id": "f54a85e6-b41a-4a52-9d9b-5f93f46be9d9",
   "metadata": {},
   "source": [
    "# 14- write a Numpy program to save two given arrays into a single file in compressed format(.npz format )and load it\n"
   ]
  },
  {
   "cell_type": "code",
   "execution_count": 27,
   "id": "132e96d7-ea44-4ccc-8b3b-d471d4e53b45",
   "metadata": {},
   "outputs": [],
   "source": [
    "import os "
   ]
  },
  {
   "cell_type": "code",
   "execution_count": 28,
   "id": "0df4dea4-5844-4086-8907-b2c991c706f6",
   "metadata": {},
   "outputs": [
    {
     "name": "stdout",
     "output_type": "stream",
     "text": [
      "[0 1 2 3 4 5 6 7 8 9]\n",
      "[11 12 13 14 15 16 17 18 19]\n"
     ]
    }
   ],
   "source": [
    "x = np.arange(10)\n",
    "z = np.arange(11,20)\n",
    "print(x)\n",
    "print(z)"
   ]
  },
  {
   "cell_type": "code",
   "execution_count": 29,
   "id": "002ce6cf-b9aa-4b81-b3ec-7b7f149bbbe4",
   "metadata": {},
   "outputs": [],
   "source": [
    "np.savez(\"array.npz\",x=x,z=z)\n",
    "with np.load(\"array.npz\") as data:\n",
    "    x2=data[\"x\"]\n",
    "    z2=data[\"z\"]"
   ]
  },
  {
   "cell_type": "code",
   "execution_count": 30,
   "id": "de9caebd-f632-43d9-a417-4ba9072aca63",
   "metadata": {},
   "outputs": [
    {
     "name": "stdout",
     "output_type": "stream",
     "text": [
      "[0 1 2 3 4 5 6 7 8 9]\n",
      "[11 12 13 14 15 16 17 18 19]\n"
     ]
    }
   ],
   "source": [
    "print(x2)\n",
    "print(z2)"
   ]
  },
  {
   "cell_type": "markdown",
   "id": "9cb8fba8-ef5e-470c-8f66-256117141d9c",
   "metadata": {},
   "source": [
    "# 15- write a NumPy program to create a one-dimensional array of forty pseudo-randomly generated values select."
   ]
  },
  {
   "cell_type": "code",
   "execution_count": 31,
   "id": "7b2716f5-7ff5-4c1d-8de4-7c23f0983cfa",
   "metadata": {},
   "outputs": [
    {
     "name": "stdout",
     "output_type": "stream",
     "text": [
      "[0.77132064 0.02075195 0.63364823 0.74880388 0.49850701 0.22479665\n",
      " 0.19806286 0.76053071 0.16911084 0.08833981 0.68535982 0.95339335\n",
      " 0.00394827 0.51219226 0.81262096 0.61252607 0.72175532 0.29187607\n",
      " 0.91777412 0.71457578 0.54254437 0.14217005 0.37334076 0.67413362\n",
      " 0.44183317 0.43401399 0.61776698 0.51313824 0.65039718 0.60103895\n",
      " 0.8052232  0.52164715 0.90864888 0.31923609 0.09045935 0.30070006\n",
      " 0.11398436 0.82868133 0.04689632 0.62628715]\n"
     ]
    }
   ],
   "source": [
    "np.random.seed(10)\n",
    "print(np.random.rand(40))"
   ]
  },
  {
   "cell_type": "markdown",
   "id": "3d91ea8e-c4e1-4b15-a566-958f016217e3",
   "metadata": {},
   "source": [
    "# 16-write a NumPy program to extract all numbers from given array which are less and greater than a specified number."
   ]
  },
  {
   "cell_type": "code",
   "execution_count": 32,
   "id": "f4abf49e-243d-484d-8bfe-8ea359e1fb47",
   "metadata": {},
   "outputs": [],
   "source": [
    "z =np.array ([[7.1,5,4],[4,8,9.6],[5.2,6.2,4]])"
   ]
  },
  {
   "cell_type": "code",
   "execution_count": 33,
   "id": "294f888a-8dd7-4051-a55c-77d313c963a7",
   "metadata": {},
   "outputs": [
    {
     "name": "stdout",
     "output_type": "stream",
     "text": [
      "[[7.1 5.  4. ]\n",
      " [4.  8.  9.6]\n",
      " [5.2 6.2 4. ]]\n"
     ]
    }
   ],
   "source": [
    "print(z)"
   ]
  },
  {
   "cell_type": "code",
   "execution_count": 34,
   "id": "6b0ab86b-a9d2-45a9-bc0b-3b6c90bd409b",
   "metadata": {},
   "outputs": [
    {
     "name": "stdout",
     "output_type": "stream",
     "text": [
      "elements is greater than  [7.1 8.  9.6 6.2]\n"
     ]
    }
   ],
   "source": [
    "n = 6\n",
    "print(\"elements is greater than \" , z[z>n])"
   ]
  },
  {
   "cell_type": "code",
   "execution_count": 35,
   "id": "64154b4a-2abf-4bb9-88d2-9ec8c628caa8",
   "metadata": {},
   "outputs": [
    {
     "name": "stdout",
     "output_type": "stream",
     "text": [
      "elements is less than [5.  4.  4.  5.2 6.2 4. ]\n"
     ]
    }
   ],
   "source": [
    "n = 7\n",
    "print(\"elements is less than\" , z[z<n])"
   ]
  }
 ],
 "metadata": {
  "kernelspec": {
   "display_name": "Python 3 (ipykernel)",
   "language": "python",
   "name": "python3"
  },
  "language_info": {
   "codemirror_mode": {
    "name": "ipython",
    "version": 3
   },
   "file_extension": ".py",
   "mimetype": "text/x-python",
   "name": "python",
   "nbconvert_exporter": "python",
   "pygments_lexer": "ipython3",
   "version": "3.9.13"
  }
 },
 "nbformat": 4,
 "nbformat_minor": 5
}
